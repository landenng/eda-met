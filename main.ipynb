{
  "cells": [
    {
      "cell_type": "raw",
      "metadata": {},
      "source": [
        "---\n",
        "title: Met Museum Objects\n",
        "format: html\n",
        "---"
      ]
    },
    {
      "cell_type": "markdown",
      "metadata": {},
      "source": [
        "## Import libraries"
      ]
    },
    {
      "cell_type": "code",
      "metadata": {},
      "source": [
        "import pandas as pd"
      ],
      "execution_count": null,
      "outputs": []
    },
    {
      "cell_type": "code",
      "metadata": {},
      "source": [
        "pd.set_option('display.max_columns', None)"
      ],
      "execution_count": null,
      "outputs": []
    },
    {
      "cell_type": "markdown",
      "metadata": {},
      "source": [
        "## Import and format starting data"
      ]
    },
    {
      "cell_type": "code",
      "metadata": {},
      "source": [
        "og = pd.read_csv('data/MetObjects.csv')\n",
        "og"
      ],
      "execution_count": null,
      "outputs": []
    },
    {
      "cell_type": "code",
      "metadata": {},
      "source": [
        "og.columns = map(str.lower, og.columns)\n",
        "og.columns = og.columns.str.replace(' ', '_')\n",
        "for col in og.columns:\n",
        "    try: og[col].str.strip()\n",
        "    except: pass\n",
        "og = og.rename(columns = { 'accessionyear': 'accession_year' })\n",
        "og.head()"
      ],
      "execution_count": null,
      "outputs": []
    },
    {
      "cell_type": "markdown",
      "metadata": {},
      "source": [
        "## Transformation and Analysis"
      ]
    },
    {
      "cell_type": "code",
      "metadata": {},
      "source": [
        "og.describe()"
      ],
      "execution_count": null,
      "outputs": []
    },
    {
      "cell_type": "code",
      "metadata": {},
      "source": [
        "og.department.unique()"
      ],
      "execution_count": null,
      "outputs": []
    },
    {
      "cell_type": "code",
      "metadata": {},
      "source": [
        "og.department.value_counts()"
      ],
      "execution_count": null,
      "outputs": []
    },
    {
      "cell_type": "code",
      "metadata": {},
      "source": [
        "df = og[og.department == 'Greek and Roman Art']\n",
        "df = df.reset_index(drop = True)\n",
        "df"
      ],
      "execution_count": null,
      "outputs": []
    },
    {
      "cell_type": "code",
      "metadata": {},
      "source": [
        "df_p = (df.shape[0] / og.shape[0]) * 100\n",
        "df_p"
      ],
      "execution_count": null,
      "outputs": []
    },
    {
      "cell_type": "code",
      "metadata": {},
      "source": [
        "df_highlights = df[df.is_highlight == True]\n",
        "og_highlights = og[og.is_highlight == True]\n",
        "df_highlight_p = (df_highlights.shape[0] / og_highlights.shape[0]) * 100\n",
        "df_highlight_p"
      ],
      "execution_count": null,
      "outputs": []
    },
    {
      "cell_type": "code",
      "metadata": {},
      "source": [
        "df = df.dropna(axis = 1, how = 'all')\n",
        "df"
      ],
      "execution_count": null,
      "outputs": []
    },
    {
      "cell_type": "code",
      "metadata": {},
      "source": [
        "for col in df.columns:\n",
        "    print(col)"
      ],
      "execution_count": null,
      "outputs": []
    },
    {
      "cell_type": "code",
      "metadata": {},
      "source": [
        "cols = [ 'constituent_id', 'artist_role', 'artist_prefix', 'artist_display_name', 'artist_display_bio', 'artist_suffix', 'artist_alpha_sort', 'artist_nationality', 'artist_begin_date', 'artist_end_date', 'artist_gender' ]\n",
        "for col in cols:\n",
        "    print(f'{col}: {df[col].value_counts()}\\n')"
      ],
      "execution_count": null,
      "outputs": []
    },
    {
      "cell_type": "code",
      "metadata": {},
      "source": [
        "df = df.drop([ 'constituent_id', 'department', 'artist_role', 'artist_display_bio', 'artist_begin_date', 'artist_end_date', 'artist_gender', 'artist_ulan_url', 'artist_wikidata_url', 'link_resource', 'object_wikidata_url', 'tags_aat_url', 'tags_wikidata_url' ], axis = 1)\n",
        "df"
      ],
      "execution_count": null,
      "outputs": []
    },
    {
      "cell_type": "code",
      "metadata": {},
      "source": [
        "df.is_highlight.value_counts()"
      ],
      "execution_count": null,
      "outputs": []
    },
    {
      "cell_type": "code",
      "metadata": {},
      "source": [
        "pd.set_option('display.max_rows', None)\n",
        "df.culture.value_counts()"
      ],
      "execution_count": null,
      "outputs": []
    },
    {
      "cell_type": "code",
      "metadata": {},
      "source": [
        "pd.set_option('display.max_rows', 20)\n",
        "greek_highlights = df[(df.is_highlight == True) & (df.culture.str.contains('Greek'))]\n",
        "greek_highlights"
      ],
      "execution_count": null,
      "outputs": []
    },
    {
      "cell_type": "code",
      "metadata": {},
      "source": [
        "greek_highlights.shape[0]"
      ],
      "execution_count": null,
      "outputs": []
    },
    {
      "cell_type": "code",
      "metadata": {},
      "source": [
        "greek_highlights_p = (greek_highlights.shape[0] / df[df.is_highlight == True].shape[0]) * 100\n",
        "greek_highlights_p"
      ],
      "execution_count": null,
      "outputs": []
    },
    {
      "cell_type": "code",
      "metadata": {},
      "source": [
        "roman_highlights = df[(df.is_highlight == True) & (df.culture.str.contains('Roman'))]\n",
        "roman_highlights"
      ],
      "execution_count": null,
      "outputs": []
    },
    {
      "cell_type": "code",
      "metadata": {},
      "source": [
        "roman_highlights_p = (roman_highlights.shape[0] / df[df.is_highlight == True].shape[0]) * 100\n",
        "roman_highlights_p"
      ],
      "execution_count": null,
      "outputs": []
    },
    {
      "cell_type": "code",
      "metadata": {},
      "source": [
        "gar_highlights = df[(df.is_highlight == True) & (df.culture.str.contains('Roman') & df.culture.str.contains('Greek'))]\n",
        "gar_highlights"
      ],
      "execution_count": null,
      "outputs": []
    },
    {
      "cell_type": "code",
      "metadata": {},
      "source": [
        "gar_highlights_p = (gar_highlights.shape[0] / df[df.is_highlight == True].shape[0]) * 100\n",
        "gar_highlights_p"
      ],
      "execution_count": null,
      "outputs": []
    }
  ],
  "metadata": {
    "kernelspec": {
      "name": "python3",
      "language": "python",
      "display_name": "Python 3 (ipykernel)"
    }
  },
  "nbformat": 4,
  "nbformat_minor": 4
}